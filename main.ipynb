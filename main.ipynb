{
 "cells": [
  {
   "cell_type": "code",
   "execution_count": 4,
   "id": "1214896c",
   "metadata": {},
   "outputs": [],
   "source": [
    "import pandas as pd\n",
    "\n",
    "# Creating the URL to fetch data from Yahoo Finance\n",
    "symbol = \"BTC-USD\"\n",
    "interval = \"1h\"\n",
    "period = \"3mo\"\n",
    "url = f\"https://query1.finance.yahoo.com/v8/finance/chart/{symbol}?interval={interval}&range={period}\"\n",
    "\n",
    "# Fetching the data\n",
    "response = pd.read_json(url)\n",
    "\n",
    "# Processing the data\n",
    "df = pd.DataFrame(response[\"chart\"][\"result\"][0][\"indicators\"][\"quote\"][0])\n",
    "df[\"timestamp\"] = response[\"chart\"][\"result\"][0][\"timestamp\"]\n",
    "\n",
    "# Converting Unix timestamps to datetime\n",
    "df[\"timestamp\"] = pd.to_datetime(df[\"timestamp\"], unit=\"s\")\n",
    "\n",
    "# Saving the data as CSV\n",
    "df.to_csv(\"btc_usdt_data.csv\", index=False)\n"
   ]
  },
  {
   "cell_type": "code",
   "execution_count": 7,
   "id": "870250d0",
   "metadata": {},
   "outputs": [
    {
     "name": "stdout",
     "output_type": "stream",
     "text": [
      "           high        volume         close           low          open  \\\n",
      "0  28485.505859  0.000000e+00  28352.136719  28342.658203  28391.048828   \n",
      "1  28413.126953  3.230925e+08  28398.783203  28241.523438  28313.050781   \n",
      "2  28443.625000  0.000000e+00  28352.009766  28331.992188  28392.941406   \n",
      "3  28450.628906  1.133322e+08  28324.609375  28273.263672  28350.140625   \n",
      "4  28371.638672  0.000000e+00  28365.658203  28260.171875  28328.564453   \n",
      "5  29159.902344  1.927727e+09  28989.052734  28355.517578  28355.808594   \n",
      "6  28986.273438  1.513730e+09  28504.529297  28293.935547  28967.892578   \n",
      "7  28689.632812  1.245368e+08  28623.179688  28467.343750  28485.128906   \n",
      "8  28623.359375  0.000000e+00  28623.359375  28497.423828  28596.853516   \n",
      "9  28655.505859  0.000000e+00  28620.175781  28567.474609  28623.220703   \n",
      "\n",
      "            timestamp  Change_1  Change_2  Change_3  Change_4  Change_5  \n",
      "0 2023-03-29 21:00:00  0.000000  0.000000  0.000000  0.000000  0.000000  \n",
      "1 2023-03-29 22:00:00  0.164525  0.000000  0.000000  0.000000  0.000000  \n",
      "2 2023-03-29 23:00:00 -0.164702 -0.000448  0.000000  0.000000  0.000000  \n",
      "3 2023-03-30 00:00:00 -0.096644 -0.261187 -0.097091  0.000000  0.000000  \n",
      "4 2023-03-30 01:00:00  0.144923  0.048139 -0.116642  0.047691  0.000000  \n",
      "5 2023-03-30 02:00:00  2.197709  2.345816  2.246906  2.078503  2.246448  \n",
      "6 2023-03-30 03:00:00 -1.671401  0.489575  0.635207  0.537950  0.372361  \n",
      "7 2023-03-30 04:00:00  0.416251 -1.262108  0.907864  1.054102  0.956440  \n",
      "8 2023-03-30 05:00:00  0.000628  0.416881 -1.261488  0.908497  1.054737  \n",
      "9 2023-03-30 06:00:00 -0.011122 -0.010495  0.405713 -1.272470  0.897274  \n"
     ]
    }
   ],
   "source": [
    "# Create columns for percentage change of previous 5 candles\n",
    "for i in range(1, 6):\n",
    "    col_name = f\"Change_{i}\"\n",
    "    prev_close = df[\"close\"].shift(i)  # Get previous closing prices\n",
    "    change = (df[\"close\"] - prev_close) / prev_close * 100  # Calculate percentage change\n",
    "    df[col_name] = change\n",
    "\n",
    "# Fill NaN values with 0\n",
    "df.fillna(0, inplace=True)    \n",
    "    \n",
    "# Display the first 5 rows\n",
    "print(df.head(10))\n"
   ]
  },
  {
   "cell_type": "code",
   "execution_count": null,
   "id": "26e2ee30",
   "metadata": {},
   "outputs": [],
   "source": []
  }
 ],
 "metadata": {
  "kernelspec": {
   "display_name": "Python 3 (ipykernel)",
   "language": "python",
   "name": "python3"
  },
  "language_info": {
   "codemirror_mode": {
    "name": "ipython",
    "version": 3
   },
   "file_extension": ".py",
   "mimetype": "text/x-python",
   "name": "python",
   "nbconvert_exporter": "python",
   "pygments_lexer": "ipython3",
   "version": "3.8.16"
  }
 },
 "nbformat": 4,
 "nbformat_minor": 5
}
