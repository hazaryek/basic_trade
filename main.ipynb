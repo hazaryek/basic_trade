{
 "cells": [
  {
   "cell_type": "code",
   "execution_count": 1,
   "id": "178ae257",
   "metadata": {},
   "outputs": [],
   "source": [
    "import pandas as pd\n",
    "\n",
    "# Creating the URL to fetch data from Yahoo Finance\n",
    "symbol = \"BTC-USD\"\n",
    "interval = \"1h\"\n",
    "period = \"3mo\"\n",
    "url = f\"https://query1.finance.yahoo.com/v8/finance/chart/{symbol}?interval={interval}&range={period}\"\n",
    "\n",
    "# Fetching the data\n",
    "response = pd.read_json(url)\n",
    "\n",
    "# Processing the data\n",
    "df = pd.DataFrame(response[\"chart\"][\"result\"][0][\"indicators\"][\"quote\"][0])\n",
    "df[\"timestamp\"] = response[\"chart\"][\"result\"][0][\"timestamp\"]\n",
    "\n",
    "# Converting Unix timestamps to datetime\n",
    "df[\"timestamp\"] = pd.to_datetime(df[\"timestamp\"], unit=\"s\")\n",
    "\n",
    "# Saving the data as CSV\n",
    "df.to_csv(\"btc_usdt_data.csv\", index=False)\n"
   ]
  },
  {
   "cell_type": "code",
   "execution_count": 2,
   "id": "682358b4",
   "metadata": {},
   "outputs": [
    {
     "name": "stdout",
     "output_type": "stream",
     "text": [
      "              high       volume           low          open         close  \\\n",
      "2200  30644.109375   11874304.0  30419.296875  30601.869141  30459.607422   \n",
      "2201  30531.214844          0.0  30437.730469  30453.050781  30477.902344   \n",
      "2202  30556.808594          0.0  30474.136719  30474.136719  30500.802734   \n",
      "2203  30639.820312          0.0  30446.363281  30496.746094  30535.990234   \n",
      "2204  30610.484375   24939520.0  30515.318359  30539.128906  30572.707031   \n",
      "2205  30596.470703  112037888.0  30490.560547  30563.767578  30596.470703   \n",
      "2206  30632.925781  588941312.0  30273.216797  30595.830078  30404.148438   \n",
      "2207  30442.902344  553745408.0  30369.322266  30406.349609  30416.703125   \n",
      "2208  30447.185547  519322624.0  30411.988281  30412.480469  30441.464844   \n",
      "2209  30441.064453          0.0  30441.064453  30441.064453  30441.064453   \n",
      "\n",
      "               timestamp  PctChange  \n",
      "2200 2023-06-29 14:00:00  -0.241386  \n",
      "2201 2023-06-29 15:00:00   0.060063  \n",
      "2202 2023-06-29 16:00:00   0.075138  \n",
      "2203 2023-06-29 17:00:00   0.115366  \n",
      "2204 2023-06-29 18:00:00   0.120241  \n",
      "2205 2023-06-29 19:00:00   0.077728  \n",
      "2206 2023-06-29 20:00:00  -0.628577  \n",
      "2207 2023-06-29 21:00:00   0.041293  \n",
      "2208 2023-06-29 22:00:00   0.081408  \n",
      "2209 2023-06-29 22:31:00  -0.001315  \n"
     ]
    }
   ],
   "source": [
    "import pandas as pd\n",
    "\n",
    "# Calculate percentage change as candlestick change\n",
    "df[\"PctChange\"] = df[\"close\"].pct_change() * 100\n",
    "\n",
    "# Set the first row's percentage change as NaN\n",
    "df.loc[0, \"PctChange\"] = 0\n",
    "\n",
    "# Save the data with percentage change as CSV\n",
    "df.to_csv(\"btc_usdt_data_with_pct_change.csv\", index=False)\n",
    "\n",
    "    \n",
    "# Display the last 10 rows\n",
    "print(df.tail(10))"
   ]
  },
  {
   "cell_type": "code",
   "execution_count": 3,
   "id": "36659458",
   "metadata": {},
   "outputs": [
    {
     "name": "stdout",
     "output_type": "stream",
     "text": [
      "              high       volume           low          open         close  \\\n",
      "2200  30644.109375   11874304.0  30419.296875  30601.869141  30459.607422   \n",
      "2201  30531.214844          0.0  30437.730469  30453.050781  30477.902344   \n",
      "2202  30556.808594          0.0  30474.136719  30474.136719  30500.802734   \n",
      "2203  30639.820312          0.0  30446.363281  30496.746094  30535.990234   \n",
      "2204  30610.484375   24939520.0  30515.318359  30539.128906  30572.707031   \n",
      "2205  30596.470703  112037888.0  30490.560547  30563.767578  30596.470703   \n",
      "2206  30632.925781  588941312.0  30273.216797  30595.830078  30404.148438   \n",
      "2207  30442.902344  553745408.0  30369.322266  30406.349609  30416.703125   \n",
      "2208  30447.185547  519322624.0  30411.988281  30412.480469  30441.464844   \n",
      "2209  30441.064453          0.0  30441.064453  30441.064453  30441.064453   \n",
      "\n",
      "               timestamp  PctChange  PctChange_1  PctChange_2  PctChange_3  \\\n",
      "2200 2023-06-29 14:00:00  -0.241386    -0.274679    -0.162321    -0.109067   \n",
      "2201 2023-06-29 15:00:00   0.060063    -0.241386    -0.274679    -0.162321   \n",
      "2202 2023-06-29 16:00:00   0.075138     0.060063    -0.241386    -0.274679   \n",
      "2203 2023-06-29 17:00:00   0.115366     0.075138     0.060063    -0.241386   \n",
      "2204 2023-06-29 18:00:00   0.120241     0.115366     0.075138     0.060063   \n",
      "2205 2023-06-29 19:00:00   0.077728     0.120241     0.115366     0.075138   \n",
      "2206 2023-06-29 20:00:00  -0.628577     0.077728     0.120241     0.115366   \n",
      "2207 2023-06-29 21:00:00   0.041293    -0.628577     0.077728     0.120241   \n",
      "2208 2023-06-29 22:00:00   0.081408     0.041293    -0.628577     0.077728   \n",
      "2209 2023-06-29 22:31:00  -0.001315     0.081408     0.041293    -0.628577   \n",
      "\n",
      "      PctChange_4  PctChange_5  \n",
      "2200     0.850193     0.201950  \n",
      "2201    -0.109067     0.850193  \n",
      "2202    -0.162321    -0.109067  \n",
      "2203    -0.274679    -0.162321  \n",
      "2204    -0.241386    -0.274679  \n",
      "2205     0.060063    -0.241386  \n",
      "2206     0.075138     0.060063  \n",
      "2207     0.115366     0.075138  \n",
      "2208     0.120241     0.115366  \n",
      "2209     0.077728     0.120241  \n"
     ]
    }
   ],
   "source": [
    "# Shift the \"PctChange\" feature by 1 to 5 steps\n",
    "for i in range(1, 6):\n",
    "    df[f\"PctChange_{i}\"] = df[\"PctChange\"].shift(i)\n",
    "\n",
    "# Save the data with shifted percentage changes as CSV\n",
    "df.to_csv(\"btc_usdt_data_with_shifted_pct_change.csv\", index=False)\n",
    "\n",
    "print(df.tail(10))"
   ]
  },
  {
   "cell_type": "code",
   "execution_count": 4,
   "id": "06bfb3b3",
   "metadata": {},
   "outputs": [
    {
     "name": "stdout",
     "output_type": "stream",
     "text": [
      "              high       volume           low          open         close  \\\n",
      "2200  30644.109375   11874304.0  30419.296875  30601.869141  30459.607422   \n",
      "2201  30531.214844          0.0  30437.730469  30453.050781  30477.902344   \n",
      "2202  30556.808594          0.0  30474.136719  30474.136719  30500.802734   \n",
      "2203  30639.820312          0.0  30446.363281  30496.746094  30535.990234   \n",
      "2204  30610.484375   24939520.0  30515.318359  30539.128906  30572.707031   \n",
      "2205  30596.470703  112037888.0  30490.560547  30563.767578  30596.470703   \n",
      "2206  30632.925781  588941312.0  30273.216797  30595.830078  30404.148438   \n",
      "2207  30442.902344  553745408.0  30369.322266  30406.349609  30416.703125   \n",
      "2208  30447.185547  519322624.0  30411.988281  30412.480469  30441.464844   \n",
      "2209  30441.064453          0.0  30441.064453  30441.064453  30441.064453   \n",
      "\n",
      "               timestamp  PctChange  PctChange_1  PctChange_2  PctChange_3  \\\n",
      "2200 2023-06-29 14:00:00  -0.241386    -0.274679    -0.162321    -0.109067   \n",
      "2201 2023-06-29 15:00:00   0.060063    -0.241386    -0.274679    -0.162321   \n",
      "2202 2023-06-29 16:00:00   0.075138     0.060063    -0.241386    -0.274679   \n",
      "2203 2023-06-29 17:00:00   0.115366     0.075138     0.060063    -0.241386   \n",
      "2204 2023-06-29 18:00:00   0.120241     0.115366     0.075138     0.060063   \n",
      "2205 2023-06-29 19:00:00   0.077728     0.120241     0.115366     0.075138   \n",
      "2206 2023-06-29 20:00:00  -0.628577     0.077728     0.120241     0.115366   \n",
      "2207 2023-06-29 21:00:00   0.041293    -0.628577     0.077728     0.120241   \n",
      "2208 2023-06-29 22:00:00   0.081408     0.041293    -0.628577     0.077728   \n",
      "2209 2023-06-29 22:31:00  -0.001315     0.081408     0.041293    -0.628577   \n",
      "\n",
      "      PctChange_4  PctChange_5  TargetChange  \n",
      "2200     0.850193     0.201950             0  \n",
      "2201    -0.109067     0.850193             1  \n",
      "2202    -0.162321    -0.109067             1  \n",
      "2203    -0.274679    -0.162321             1  \n",
      "2204    -0.241386    -0.274679             1  \n",
      "2205     0.060063    -0.241386             1  \n",
      "2206     0.075138     0.060063             0  \n",
      "2207     0.115366     0.075138             1  \n",
      "2208     0.120241     0.115366             1  \n",
      "2209     0.077728     0.120241             0  \n"
     ]
    }
   ],
   "source": [
    "# Create a new column with binary values based on the percentage change\n",
    "df[\"TargetChange\"] = df[\"PctChange\"].apply(lambda x: 1 if x >= 0 else 0)\n",
    "\n",
    "print(df.tail(10))"
   ]
  },
  {
   "cell_type": "code",
   "execution_count": 5,
   "id": "75fb8119",
   "metadata": {},
   "outputs": [],
   "source": [
    "from sklearn.model_selection import train_test_split\n",
    "from sklearn.svm import SVC\n",
    "from sklearn.metrics import accuracy_score\n",
    "from sklearn.preprocessing import MinMaxScaler\n",
    "\n",
    "# Remove rows with missing values\n",
    "df = df.dropna()\n",
    "\n",
    "# Define the features and target variables\n",
    "features = df[[\"PctChange_1\", \"PctChange_2\", \"PctChange_3\", \"PctChange_4\", \"PctChange_5\"]]\n",
    "target = df[\"TargetChange\"]\n",
    "\n",
    "scaler = MinMaxScaler()\n",
    "scaled_features = scaler.fit_transform(features)\n",
    "\n",
    "# Split the data into training and testing sets\n",
    "X_train, X_test, y_train, y_test = train_test_split(scaled_features, target, test_size=0.2, random_state=42)"
   ]
  },
  {
   "cell_type": "code",
   "execution_count": 6,
   "id": "b883d880",
   "metadata": {},
   "outputs": [
    {
     "data": {
      "text/html": [
       "<style>#sk-container-id-1 {color: black;background-color: white;}#sk-container-id-1 pre{padding: 0;}#sk-container-id-1 div.sk-toggleable {background-color: white;}#sk-container-id-1 label.sk-toggleable__label {cursor: pointer;display: block;width: 100%;margin-bottom: 0;padding: 0.3em;box-sizing: border-box;text-align: center;}#sk-container-id-1 label.sk-toggleable__label-arrow:before {content: \"▸\";float: left;margin-right: 0.25em;color: #696969;}#sk-container-id-1 label.sk-toggleable__label-arrow:hover:before {color: black;}#sk-container-id-1 div.sk-estimator:hover label.sk-toggleable__label-arrow:before {color: black;}#sk-container-id-1 div.sk-toggleable__content {max-height: 0;max-width: 0;overflow: hidden;text-align: left;background-color: #f0f8ff;}#sk-container-id-1 div.sk-toggleable__content pre {margin: 0.2em;color: black;border-radius: 0.25em;background-color: #f0f8ff;}#sk-container-id-1 input.sk-toggleable__control:checked~div.sk-toggleable__content {max-height: 200px;max-width: 100%;overflow: auto;}#sk-container-id-1 input.sk-toggleable__control:checked~label.sk-toggleable__label-arrow:before {content: \"▾\";}#sk-container-id-1 div.sk-estimator input.sk-toggleable__control:checked~label.sk-toggleable__label {background-color: #d4ebff;}#sk-container-id-1 div.sk-label input.sk-toggleable__control:checked~label.sk-toggleable__label {background-color: #d4ebff;}#sk-container-id-1 input.sk-hidden--visually {border: 0;clip: rect(1px 1px 1px 1px);clip: rect(1px, 1px, 1px, 1px);height: 1px;margin: -1px;overflow: hidden;padding: 0;position: absolute;width: 1px;}#sk-container-id-1 div.sk-estimator {font-family: monospace;background-color: #f0f8ff;border: 1px dotted black;border-radius: 0.25em;box-sizing: border-box;margin-bottom: 0.5em;}#sk-container-id-1 div.sk-estimator:hover {background-color: #d4ebff;}#sk-container-id-1 div.sk-parallel-item::after {content: \"\";width: 100%;border-bottom: 1px solid gray;flex-grow: 1;}#sk-container-id-1 div.sk-label:hover label.sk-toggleable__label {background-color: #d4ebff;}#sk-container-id-1 div.sk-serial::before {content: \"\";position: absolute;border-left: 1px solid gray;box-sizing: border-box;top: 0;bottom: 0;left: 50%;z-index: 0;}#sk-container-id-1 div.sk-serial {display: flex;flex-direction: column;align-items: center;background-color: white;padding-right: 0.2em;padding-left: 0.2em;position: relative;}#sk-container-id-1 div.sk-item {position: relative;z-index: 1;}#sk-container-id-1 div.sk-parallel {display: flex;align-items: stretch;justify-content: center;background-color: white;position: relative;}#sk-container-id-1 div.sk-item::before, #sk-container-id-1 div.sk-parallel-item::before {content: \"\";position: absolute;border-left: 1px solid gray;box-sizing: border-box;top: 0;bottom: 0;left: 50%;z-index: -1;}#sk-container-id-1 div.sk-parallel-item {display: flex;flex-direction: column;z-index: 1;position: relative;background-color: white;}#sk-container-id-1 div.sk-parallel-item:first-child::after {align-self: flex-end;width: 50%;}#sk-container-id-1 div.sk-parallel-item:last-child::after {align-self: flex-start;width: 50%;}#sk-container-id-1 div.sk-parallel-item:only-child::after {width: 0;}#sk-container-id-1 div.sk-dashed-wrapped {border: 1px dashed gray;margin: 0 0.4em 0.5em 0.4em;box-sizing: border-box;padding-bottom: 0.4em;background-color: white;}#sk-container-id-1 div.sk-label label {font-family: monospace;font-weight: bold;display: inline-block;line-height: 1.2em;}#sk-container-id-1 div.sk-label-container {text-align: center;}#sk-container-id-1 div.sk-container {/* jupyter's `normalize.less` sets `[hidden] { display: none; }` but bootstrap.min.css set `[hidden] { display: none !important; }` so we also need the `!important` here to be able to override the default hidden behavior on the sphinx rendered scikit-learn.org. See: https://github.com/scikit-learn/scikit-learn/issues/21755 */display: inline-block !important;position: relative;}#sk-container-id-1 div.sk-text-repr-fallback {display: none;}</style><div id=\"sk-container-id-1\" class=\"sk-top-container\"><div class=\"sk-text-repr-fallback\"><pre>SVC()</pre><b>In a Jupyter environment, please rerun this cell to show the HTML representation or trust the notebook. <br />On GitHub, the HTML representation is unable to render, please try loading this page with nbviewer.org.</b></div><div class=\"sk-container\" hidden><div class=\"sk-item\"><div class=\"sk-estimator sk-toggleable\"><input class=\"sk-toggleable__control sk-hidden--visually\" id=\"sk-estimator-id-1\" type=\"checkbox\" checked><label for=\"sk-estimator-id-1\" class=\"sk-toggleable__label sk-toggleable__label-arrow\">SVC</label><div class=\"sk-toggleable__content\"><pre>SVC()</pre></div></div></div></div></div>"
      ],
      "text/plain": [
       "SVC()"
      ]
     },
     "execution_count": 6,
     "metadata": {},
     "output_type": "execute_result"
    }
   ],
   "source": [
    "# Create an SVM classifier\n",
    "svm = SVC()\n",
    "\n",
    "# Train the model\n",
    "svm.fit(X_train, y_train)\n"
   ]
  },
  {
   "cell_type": "code",
   "execution_count": 7,
   "id": "de59ef5c",
   "metadata": {},
   "outputs": [
    {
     "name": "stdout",
     "output_type": "stream",
     "text": [
      "Accuracy: 0.5105882352941177\n"
     ]
    }
   ],
   "source": [
    "# Make predictions on the test set\n",
    "y_pred = svm.predict(X_test)\n",
    "\n",
    "# Calculate the accuracy of the model\n",
    "accuracy = accuracy_score(y_test, y_pred)\n",
    "print(\"Accuracy:\", accuracy)\n"
   ]
  },
  {
   "cell_type": "code",
   "execution_count": 8,
   "id": "ffd9749f",
   "metadata": {},
   "outputs": [
    {
     "name": "stdout",
     "output_type": "stream",
     "text": [
      "              high       volume           low          open         close  \\\n",
      "2200  30644.109375   11874304.0  30419.296875  30601.869141  30459.607422   \n",
      "2201  30531.214844          0.0  30437.730469  30453.050781  30477.902344   \n",
      "2202  30556.808594          0.0  30474.136719  30474.136719  30500.802734   \n",
      "2203  30639.820312          0.0  30446.363281  30496.746094  30535.990234   \n",
      "2204  30610.484375   24939520.0  30515.318359  30539.128906  30572.707031   \n",
      "2205  30596.470703  112037888.0  30490.560547  30563.767578  30596.470703   \n",
      "2206  30632.925781  588941312.0  30273.216797  30595.830078  30404.148438   \n",
      "2207  30442.902344  553745408.0  30369.322266  30406.349609  30416.703125   \n",
      "2208  30447.185547  519322624.0  30411.988281  30412.480469  30441.464844   \n",
      "2209  30441.064453          0.0  30441.064453  30441.064453  30441.064453   \n",
      "\n",
      "               timestamp  PctChange  PctChange_1  PctChange_2  PctChange_3  \\\n",
      "2200 2023-06-29 14:00:00  -0.241386    -0.274679    -0.162321    -0.109067   \n",
      "2201 2023-06-29 15:00:00   0.060063    -0.241386    -0.274679    -0.162321   \n",
      "2202 2023-06-29 16:00:00   0.075138     0.060063    -0.241386    -0.274679   \n",
      "2203 2023-06-29 17:00:00   0.115366     0.075138     0.060063    -0.241386   \n",
      "2204 2023-06-29 18:00:00   0.120241     0.115366     0.075138     0.060063   \n",
      "2205 2023-06-29 19:00:00   0.077728     0.120241     0.115366     0.075138   \n",
      "2206 2023-06-29 20:00:00  -0.628577     0.077728     0.120241     0.115366   \n",
      "2207 2023-06-29 21:00:00   0.041293    -0.628577     0.077728     0.120241   \n",
      "2208 2023-06-29 22:00:00   0.081408     0.041293    -0.628577     0.077728   \n",
      "2209 2023-06-29 22:31:00  -0.001315     0.081408     0.041293    -0.628577   \n",
      "\n",
      "      PctChange_4  PctChange_5  TargetChange  \n",
      "2200     0.850193     0.201950             0  \n",
      "2201    -0.109067     0.850193             1  \n",
      "2202    -0.162321    -0.109067             1  \n",
      "2203    -0.274679    -0.162321             1  \n",
      "2204    -0.241386    -0.274679             1  \n",
      "2205     0.060063    -0.241386             1  \n",
      "2206     0.075138     0.060063             0  \n",
      "2207     0.115366     0.075138             1  \n",
      "2208     0.120241     0.115366             1  \n",
      "2209     0.077728     0.120241             0  \n"
     ]
    }
   ],
   "source": [
    "print(df.tail(10))"
   ]
  },
  {
   "cell_type": "code",
   "execution_count": 9,
   "id": "7f57610c",
   "metadata": {},
   "outputs": [
    {
     "name": "stdout",
     "output_type": "stream",
     "text": [
      "Prediction: [1]\n",
      "Prediction2: [1]\n",
      "Prediction3: [1]\n",
      "Prediction4: [1]\n",
      "Prediction5: [1]\n"
     ]
    }
   ],
   "source": [
    "# Örnek bir tahmin yapma\n",
    "sample = [[0.05, 0.40, -0.06, -0.12, -0.04]]\n",
    "sample2 = [[0.40, -0.06, -0.12, 0.04, 0.17]]\n",
    "sample3 = [[-0.06, -0.12, 0.04, 0.17, 0.02]]\n",
    "sample4 = [[-0.4, -0.23, 0.39, 1.67, 2.30]]\n",
    "sample5 = [[-0.23, 0.39, 1.67, 2.30, 7.11]]\n",
    "sample5 = [[-0.23, 0.39, 1.67, 2.30, 7.11]]\n",
    "\n",
    "\n",
    "prediction = svm.predict(sample)\n",
    "prediction2 = svm.predict(sample2)\n",
    "prediction3 = svm.predict(sample3)\n",
    "prediction4 = svm.predict(sample4)\n",
    "prediction5 = svm.predict(sample5)\n",
    "\n",
    "print(\"Prediction:\", prediction)\n",
    "print(\"Prediction2:\", prediction2)\n",
    "print(\"Prediction3:\", prediction3)\n",
    "print(\"Prediction4:\", prediction4)\n",
    "print(\"Prediction5:\", prediction5)"
   ]
  },
  {
   "cell_type": "code",
   "execution_count": 10,
   "id": "87ba4171",
   "metadata": {},
   "outputs": [
    {
     "name": "stdout",
     "output_type": "stream",
     "text": [
      "Accuracy: 0.571764705882353\n"
     ]
    }
   ],
   "source": [
    "\n",
    "from sklearn.ensemble import RandomForestClassifier\n",
    "\n",
    "\n",
    "# Veri setini yükleme ve özellikleri/hedefi ayırma\n",
    "features = df[[\"PctChange_1\", \"PctChange_2\", \"PctChange_3\", \"PctChange_4\", \"PctChange_5\"]]\n",
    "target = df[\"TargetChange\"]\n",
    "\n",
    "# Eğitim ve test setlerine ayırma\n",
    "X_train, X_test, y_train, y_test = train_test_split(features, target, test_size=0.2, random_state=42)\n",
    "\n",
    "# Random Forest modelini oluşturma\n",
    "rf = RandomForestClassifier()\n",
    "\n",
    "# Modeli eğitme\n",
    "rf.fit(X_train, y_train)\n",
    "\n",
    "# Test seti üzerinde tahmin yapma\n",
    "y_pred = rf.predict(X_test)\n",
    "\n",
    "# Modelin performansını değerlendirme\n",
    "accuracy = accuracy_score(y_test, y_pred)\n",
    "print(\"Accuracy:\", accuracy)\n"
   ]
  },
  {
   "cell_type": "code",
   "execution_count": null,
   "id": "b523edba",
   "metadata": {},
   "outputs": [],
   "source": []
  }
 ],
 "metadata": {
  "kernelspec": {
   "display_name": "Python 3 (ipykernel)",
   "language": "python",
   "name": "python3"
  },
  "language_info": {
   "codemirror_mode": {
    "name": "ipython",
    "version": 3
   },
   "file_extension": ".py",
   "mimetype": "text/x-python",
   "name": "python",
   "nbconvert_exporter": "python",
   "pygments_lexer": "ipython3",
   "version": "3.8.16"
  }
 },
 "nbformat": 4,
 "nbformat_minor": 5
}
