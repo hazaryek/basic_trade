{
 "cells": [
  {
   "cell_type": "code",
   "execution_count": 4,
   "id": "5345e9d8",
   "metadata": {},
   "outputs": [],
   "source": [
    "import pandas as pd\n",
    "\n",
    "# Creating the URL to fetch data from Yahoo Finance\n",
    "symbol = \"BTC-USD\"\n",
    "interval = \"1h\"\n",
    "period = \"3mo\"\n",
    "url = f\"https://query1.finance.yahoo.com/v8/finance/chart/{symbol}?interval={interval}&range={period}\"\n",
    "\n",
    "# Fetching the data\n",
    "response = pd.read_json(url)\n",
    "\n",
    "# Processing the data\n",
    "df = pd.DataFrame(response[\"chart\"][\"result\"][0][\"indicators\"][\"quote\"][0])\n",
    "df[\"timestamp\"] = response[\"chart\"][\"result\"][0][\"timestamp\"]\n",
    "\n",
    "# Converting Unix timestamps to datetime\n",
    "df[\"timestamp\"] = pd.to_datetime(df[\"timestamp\"], unit=\"s\")\n",
    "\n",
    "# Saving the data as CSV\n",
    "df.to_csv(\"btc_usdt_data.csv\", index=False)\n"
   ]
  },
  {
   "cell_type": "code",
   "execution_count": null,
   "id": "3f69762b",
   "metadata": {},
   "outputs": [],
   "source": []
  }
 ],
 "metadata": {
  "kernelspec": {
   "display_name": "Python 3 (ipykernel)",
   "language": "python",
   "name": "python3"
  },
  "language_info": {
   "codemirror_mode": {
    "name": "ipython",
    "version": 3
   },
   "file_extension": ".py",
   "mimetype": "text/x-python",
   "name": "python",
   "nbconvert_exporter": "python",
   "pygments_lexer": "ipython3",
   "version": "3.8.16"
  }
 },
 "nbformat": 4,
 "nbformat_minor": 5
}
