{
 "cells": [
  {
   "cell_type": "code",
   "execution_count": 5,
   "id": "e6a13e7b",
   "metadata": {},
   "outputs": [],
   "source": [
    "import pandas as pd\n",
    "\n",
    "# Creating the URL to fetch data from Yahoo Finance\n",
    "symbol = \"BTC-USD\"\n",
    "interval = \"1h\"\n",
    "period = \"3mo\"\n",
    "url = f\"https://query1.finance.yahoo.com/v8/finance/chart/{symbol}?interval={interval}&range={period}\"\n",
    "\n",
    "# Fetching the data\n",
    "response = pd.read_json(url)\n",
    "\n",
    "# Processing the data\n",
    "df = pd.DataFrame(response[\"chart\"][\"result\"][0][\"indicators\"][\"quote\"][0])\n",
    "df[\"timestamp\"] = response[\"chart\"][\"result\"][0][\"timestamp\"]\n",
    "\n",
    "# Converting Unix timestamps to datetime\n",
    "df[\"timestamp\"] = pd.to_datetime(df[\"timestamp\"], unit=\"s\")\n",
    "\n",
    "# Saving the data as CSV\n",
    "df.to_csv(\"btc_usdt_data.csv\", index=False)\n"
   ]
  },
  {
   "cell_type": "code",
   "execution_count": 7,
   "id": "a540d948",
   "metadata": {},
   "outputs": [
    {
     "name": "stdout",
     "output_type": "stream",
     "text": [
      "               low          high       volume         close          open  \\\n",
      "2200  30533.310547  30796.250000  273352704.0  30533.310547  30622.925781   \n",
      "2201  30419.296875  30644.109375   11874304.0  30459.607422  30601.869141   \n",
      "2202  30437.730469  30531.214844          0.0  30477.902344  30453.050781   \n",
      "2203  30474.136719  30556.808594          0.0  30500.802734  30474.136719   \n",
      "2204  30446.363281  30639.820312          0.0  30535.990234  30496.746094   \n",
      "2205  30515.318359  30610.484375   24939520.0  30572.707031  30539.128906   \n",
      "2206  30490.560547  30596.470703  112037888.0  30596.470703  30563.767578   \n",
      "2207  30273.216797  30632.925781  588941312.0  30404.148438  30595.830078   \n",
      "2208  30369.322266  30439.736328  549699584.0  30439.736328  30406.349609   \n",
      "2209  30436.298828  30436.298828          0.0  30436.298828  30436.298828   \n",
      "\n",
      "               timestamp      change  PctChange  \n",
      "2200 2023-06-29 13:00:00  -89.615234  -0.274679  \n",
      "2201 2023-06-29 14:00:00 -142.261719  -0.241386  \n",
      "2202 2023-06-29 15:00:00   24.851562   0.060063  \n",
      "2203 2023-06-29 16:00:00   26.666016   0.075138  \n",
      "2204 2023-06-29 17:00:00   39.244141   0.115366  \n",
      "2205 2023-06-29 18:00:00   33.578125   0.120241  \n",
      "2206 2023-06-29 19:00:00   32.703125   0.077728  \n",
      "2207 2023-06-29 20:00:00 -191.681641  -0.628577  \n",
      "2208 2023-06-29 21:00:00   33.386719   0.117049  \n",
      "2209 2023-06-29 21:43:00    0.000000  -0.011293  \n"
     ]
    }
   ],
   "source": [
    "import pandas as pd\n",
    "\n",
    "# Calculate percentage change as candlestick change\n",
    "df[\"PctChange\"] = df[\"close\"].pct_change() * 100\n",
    "\n",
    "# Set the first row's percentage change as NaN\n",
    "df.loc[0, \"PctChange\"] = 0\n",
    "\n",
    "# Save the data with percentage change as CSV\n",
    "df.to_csv(\"btc_usdt_data_with_pct_change.csv\", index=False)\n",
    "\n",
    "    \n",
    "# Display the last 10 rows\n",
    "print(df.tail(10))"
   ]
  },
  {
   "cell_type": "code",
   "execution_count": 8,
   "id": "aafd7c61",
   "metadata": {},
   "outputs": [
    {
     "name": "stdout",
     "output_type": "stream",
     "text": [
      "               low          high       volume         close          open  \\\n",
      "2200  30533.310547  30796.250000  273352704.0  30533.310547  30622.925781   \n",
      "2201  30419.296875  30644.109375   11874304.0  30459.607422  30601.869141   \n",
      "2202  30437.730469  30531.214844          0.0  30477.902344  30453.050781   \n",
      "2203  30474.136719  30556.808594          0.0  30500.802734  30474.136719   \n",
      "2204  30446.363281  30639.820312          0.0  30535.990234  30496.746094   \n",
      "2205  30515.318359  30610.484375   24939520.0  30572.707031  30539.128906   \n",
      "2206  30490.560547  30596.470703  112037888.0  30596.470703  30563.767578   \n",
      "2207  30273.216797  30632.925781  588941312.0  30404.148438  30595.830078   \n",
      "2208  30369.322266  30439.736328  549699584.0  30439.736328  30406.349609   \n",
      "2209  30436.298828  30436.298828          0.0  30436.298828  30436.298828   \n",
      "\n",
      "               timestamp      change  PctChange  PctChange_1  PctChange_2  \\\n",
      "2200 2023-06-29 13:00:00  -89.615234  -0.274679    -0.162321    -0.109067   \n",
      "2201 2023-06-29 14:00:00 -142.261719  -0.241386    -0.274679    -0.162321   \n",
      "2202 2023-06-29 15:00:00   24.851562   0.060063    -0.241386    -0.274679   \n",
      "2203 2023-06-29 16:00:00   26.666016   0.075138     0.060063    -0.241386   \n",
      "2204 2023-06-29 17:00:00   39.244141   0.115366     0.075138     0.060063   \n",
      "2205 2023-06-29 18:00:00   33.578125   0.120241     0.115366     0.075138   \n",
      "2206 2023-06-29 19:00:00   32.703125   0.077728     0.120241     0.115366   \n",
      "2207 2023-06-29 20:00:00 -191.681641  -0.628577     0.077728     0.120241   \n",
      "2208 2023-06-29 21:00:00   33.386719   0.117049    -0.628577     0.077728   \n",
      "2209 2023-06-29 21:43:00    0.000000  -0.011293     0.117049    -0.628577   \n",
      "\n",
      "      PctChange_3  PctChange_4  PctChange_5  \n",
      "2200     0.850193     0.201950     0.102047  \n",
      "2201    -0.109067     0.850193     0.201950  \n",
      "2202    -0.162321    -0.109067     0.850193  \n",
      "2203    -0.274679    -0.162321    -0.109067  \n",
      "2204    -0.241386    -0.274679    -0.162321  \n",
      "2205     0.060063    -0.241386    -0.274679  \n",
      "2206     0.075138     0.060063    -0.241386  \n",
      "2207     0.115366     0.075138     0.060063  \n",
      "2208     0.120241     0.115366     0.075138  \n",
      "2209     0.077728     0.120241     0.115366  \n"
     ]
    }
   ],
   "source": [
    "# Shift the \"PctChange\" feature by 1 to 5 steps\n",
    "for i in range(1, 6):\n",
    "    df[f\"PctChange_{i}\"] = df[\"PctChange\"].shift(i)\n",
    "\n",
    "# Save the data with shifted percentage changes as CSV\n",
    "df.to_csv(\"btc_usdt_data_with_shifted_pct_change.csv\", index=False)\n",
    "\n",
    "print(df.tail(10))"
   ]
  },
  {
   "cell_type": "code",
   "execution_count": 10,
   "id": "390365ee",
   "metadata": {},
   "outputs": [
    {
     "name": "stdout",
     "output_type": "stream",
     "text": [
      "               low          high       volume         close          open  \\\n",
      "2200  30533.310547  30796.250000  273352704.0  30533.310547  30622.925781   \n",
      "2201  30419.296875  30644.109375   11874304.0  30459.607422  30601.869141   \n",
      "2202  30437.730469  30531.214844          0.0  30477.902344  30453.050781   \n",
      "2203  30474.136719  30556.808594          0.0  30500.802734  30474.136719   \n",
      "2204  30446.363281  30639.820312          0.0  30535.990234  30496.746094   \n",
      "2205  30515.318359  30610.484375   24939520.0  30572.707031  30539.128906   \n",
      "2206  30490.560547  30596.470703  112037888.0  30596.470703  30563.767578   \n",
      "2207  30273.216797  30632.925781  588941312.0  30404.148438  30595.830078   \n",
      "2208  30369.322266  30439.736328  549699584.0  30439.736328  30406.349609   \n",
      "2209  30436.298828  30436.298828          0.0  30436.298828  30436.298828   \n",
      "\n",
      "               timestamp      change  PctChange  PctChange_1  PctChange_2  \\\n",
      "2200 2023-06-29 13:00:00  -89.615234  -0.274679    -0.162321    -0.109067   \n",
      "2201 2023-06-29 14:00:00 -142.261719  -0.241386    -0.274679    -0.162321   \n",
      "2202 2023-06-29 15:00:00   24.851562   0.060063    -0.241386    -0.274679   \n",
      "2203 2023-06-29 16:00:00   26.666016   0.075138     0.060063    -0.241386   \n",
      "2204 2023-06-29 17:00:00   39.244141   0.115366     0.075138     0.060063   \n",
      "2205 2023-06-29 18:00:00   33.578125   0.120241     0.115366     0.075138   \n",
      "2206 2023-06-29 19:00:00   32.703125   0.077728     0.120241     0.115366   \n",
      "2207 2023-06-29 20:00:00 -191.681641  -0.628577     0.077728     0.120241   \n",
      "2208 2023-06-29 21:00:00   33.386719   0.117049    -0.628577     0.077728   \n",
      "2209 2023-06-29 21:43:00    0.000000  -0.011293     0.117049    -0.628577   \n",
      "\n",
      "      PctChange_3  PctChange_4  PctChange_5  TargetChange  \n",
      "2200     0.850193     0.201950     0.102047             0  \n",
      "2201    -0.109067     0.850193     0.201950             0  \n",
      "2202    -0.162321    -0.109067     0.850193             1  \n",
      "2203    -0.274679    -0.162321    -0.109067             1  \n",
      "2204    -0.241386    -0.274679    -0.162321             1  \n",
      "2205     0.060063    -0.241386    -0.274679             1  \n",
      "2206     0.075138     0.060063    -0.241386             1  \n",
      "2207     0.115366     0.075138     0.060063             0  \n",
      "2208     0.120241     0.115366     0.075138             1  \n",
      "2209     0.077728     0.120241     0.115366             0  \n"
     ]
    }
   ],
   "source": [
    "# Create a new column with binary values based on the percentage change\n",
    "df[\"TargetChange\"] = df[\"PctChange\"].apply(lambda x: 1 if x >= 0 else 0)\n",
    "\n",
    "print(df.tail(10))"
   ]
  },
  {
   "cell_type": "code",
   "execution_count": 14,
   "id": "0efdd26c",
   "metadata": {},
   "outputs": [],
   "source": [
    "from sklearn.model_selection import train_test_split\n",
    "from sklearn.svm import SVC\n",
    "from sklearn.metrics import accuracy_score\n",
    "\n",
    "# Remove rows with missing values\n",
    "df = df.dropna()\n",
    "\n",
    "# Define the features and target variables\n",
    "features = df[[\"PctChange\", \"PctChange_1\", \"PctChange_2\", \"PctChange_3\", \"PctChange_4\", \"PctChange_5\"]]\n",
    "target = df[\"TargetChange\"]\n",
    "\n",
    "# Split the data into training and testing sets\n",
    "X_train, X_test, y_train, y_test = train_test_split(features, target, test_size=0.2, random_state=42)"
   ]
  },
  {
   "cell_type": "code",
   "execution_count": 15,
   "id": "4f309734",
   "metadata": {},
   "outputs": [
    {
     "data": {
      "text/html": [
       "<style>#sk-container-id-2 {color: black;background-color: white;}#sk-container-id-2 pre{padding: 0;}#sk-container-id-2 div.sk-toggleable {background-color: white;}#sk-container-id-2 label.sk-toggleable__label {cursor: pointer;display: block;width: 100%;margin-bottom: 0;padding: 0.3em;box-sizing: border-box;text-align: center;}#sk-container-id-2 label.sk-toggleable__label-arrow:before {content: \"▸\";float: left;margin-right: 0.25em;color: #696969;}#sk-container-id-2 label.sk-toggleable__label-arrow:hover:before {color: black;}#sk-container-id-2 div.sk-estimator:hover label.sk-toggleable__label-arrow:before {color: black;}#sk-container-id-2 div.sk-toggleable__content {max-height: 0;max-width: 0;overflow: hidden;text-align: left;background-color: #f0f8ff;}#sk-container-id-2 div.sk-toggleable__content pre {margin: 0.2em;color: black;border-radius: 0.25em;background-color: #f0f8ff;}#sk-container-id-2 input.sk-toggleable__control:checked~div.sk-toggleable__content {max-height: 200px;max-width: 100%;overflow: auto;}#sk-container-id-2 input.sk-toggleable__control:checked~label.sk-toggleable__label-arrow:before {content: \"▾\";}#sk-container-id-2 div.sk-estimator input.sk-toggleable__control:checked~label.sk-toggleable__label {background-color: #d4ebff;}#sk-container-id-2 div.sk-label input.sk-toggleable__control:checked~label.sk-toggleable__label {background-color: #d4ebff;}#sk-container-id-2 input.sk-hidden--visually {border: 0;clip: rect(1px 1px 1px 1px);clip: rect(1px, 1px, 1px, 1px);height: 1px;margin: -1px;overflow: hidden;padding: 0;position: absolute;width: 1px;}#sk-container-id-2 div.sk-estimator {font-family: monospace;background-color: #f0f8ff;border: 1px dotted black;border-radius: 0.25em;box-sizing: border-box;margin-bottom: 0.5em;}#sk-container-id-2 div.sk-estimator:hover {background-color: #d4ebff;}#sk-container-id-2 div.sk-parallel-item::after {content: \"\";width: 100%;border-bottom: 1px solid gray;flex-grow: 1;}#sk-container-id-2 div.sk-label:hover label.sk-toggleable__label {background-color: #d4ebff;}#sk-container-id-2 div.sk-serial::before {content: \"\";position: absolute;border-left: 1px solid gray;box-sizing: border-box;top: 0;bottom: 0;left: 50%;z-index: 0;}#sk-container-id-2 div.sk-serial {display: flex;flex-direction: column;align-items: center;background-color: white;padding-right: 0.2em;padding-left: 0.2em;position: relative;}#sk-container-id-2 div.sk-item {position: relative;z-index: 1;}#sk-container-id-2 div.sk-parallel {display: flex;align-items: stretch;justify-content: center;background-color: white;position: relative;}#sk-container-id-2 div.sk-item::before, #sk-container-id-2 div.sk-parallel-item::before {content: \"\";position: absolute;border-left: 1px solid gray;box-sizing: border-box;top: 0;bottom: 0;left: 50%;z-index: -1;}#sk-container-id-2 div.sk-parallel-item {display: flex;flex-direction: column;z-index: 1;position: relative;background-color: white;}#sk-container-id-2 div.sk-parallel-item:first-child::after {align-self: flex-end;width: 50%;}#sk-container-id-2 div.sk-parallel-item:last-child::after {align-self: flex-start;width: 50%;}#sk-container-id-2 div.sk-parallel-item:only-child::after {width: 0;}#sk-container-id-2 div.sk-dashed-wrapped {border: 1px dashed gray;margin: 0 0.4em 0.5em 0.4em;box-sizing: border-box;padding-bottom: 0.4em;background-color: white;}#sk-container-id-2 div.sk-label label {font-family: monospace;font-weight: bold;display: inline-block;line-height: 1.2em;}#sk-container-id-2 div.sk-label-container {text-align: center;}#sk-container-id-2 div.sk-container {/* jupyter's `normalize.less` sets `[hidden] { display: none; }` but bootstrap.min.css set `[hidden] { display: none !important; }` so we also need the `!important` here to be able to override the default hidden behavior on the sphinx rendered scikit-learn.org. See: https://github.com/scikit-learn/scikit-learn/issues/21755 */display: inline-block !important;position: relative;}#sk-container-id-2 div.sk-text-repr-fallback {display: none;}</style><div id=\"sk-container-id-2\" class=\"sk-top-container\"><div class=\"sk-text-repr-fallback\"><pre>SVC()</pre><b>In a Jupyter environment, please rerun this cell to show the HTML representation or trust the notebook. <br />On GitHub, the HTML representation is unable to render, please try loading this page with nbviewer.org.</b></div><div class=\"sk-container\" hidden><div class=\"sk-item\"><div class=\"sk-estimator sk-toggleable\"><input class=\"sk-toggleable__control sk-hidden--visually\" id=\"sk-estimator-id-2\" type=\"checkbox\" checked><label for=\"sk-estimator-id-2\" class=\"sk-toggleable__label sk-toggleable__label-arrow\">SVC</label><div class=\"sk-toggleable__content\"><pre>SVC()</pre></div></div></div></div></div>"
      ],
      "text/plain": [
       "SVC()"
      ]
     },
     "execution_count": 15,
     "metadata": {},
     "output_type": "execute_result"
    }
   ],
   "source": [
    "# Create an SVM classifier\n",
    "svm = SVC()\n",
    "\n",
    "# Train the model\n",
    "svm.fit(X_train, y_train)\n"
   ]
  },
  {
   "cell_type": "code",
   "execution_count": 16,
   "id": "c833c065",
   "metadata": {},
   "outputs": [
    {
     "name": "stdout",
     "output_type": "stream",
     "text": [
      "Accuracy: 0.971764705882353\n"
     ]
    }
   ],
   "source": [
    "# Make predictions on the test set\n",
    "y_pred = svm.predict(X_test)\n",
    "\n",
    "# Calculate the accuracy of the model\n",
    "accuracy = accuracy_score(y_test, y_pred)\n",
    "print(\"Accuracy:\", accuracy)\n"
   ]
  },
  {
   "cell_type": "code",
   "execution_count": null,
   "id": "8f0b0350",
   "metadata": {},
   "outputs": [],
   "source": []
  }
 ],
 "metadata": {
  "kernelspec": {
   "display_name": "Python 3 (ipykernel)",
   "language": "python",
   "name": "python3"
  },
  "language_info": {
   "codemirror_mode": {
    "name": "ipython",
    "version": 3
   },
   "file_extension": ".py",
   "mimetype": "text/x-python",
   "name": "python",
   "nbconvert_exporter": "python",
   "pygments_lexer": "ipython3",
   "version": "3.8.16"
  }
 },
 "nbformat": 4,
 "nbformat_minor": 5
}
